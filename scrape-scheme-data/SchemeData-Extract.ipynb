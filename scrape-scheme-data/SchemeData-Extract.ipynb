{
 "cells": [
  {
   "cell_type": "code",
   "execution_count": 1,
   "id": "e04926a1",
   "metadata": {},
   "outputs": [
    {
     "name": "stdout",
     "output_type": "stream",
     "text": [
      "Scraped successfully!\n"
     ]
    }
   ],
   "source": [
    "import requests\n",
    "from bs4 import BeautifulSoup\n",
    "from io import StringIO\n",
    "import csv\n",
    "\n",
    "URL = \"https://www.amfiindia.com/downloads\"\n",
    "\n",
    "response = requests.get(URL)\n",
    "soup = BeautifulSoup(response.content, 'html.parser')\n",
    "links = soup.find_all('a')\n",
    "\n",
    "flag = 0\n",
    "csv_url =\"\"\n",
    "for i in links:\n",
    "    if 'Scheme Data Download' in i.text:\n",
    "        csv_url = i['href']\n",
    "        flag = 1\n",
    "        break\n",
    "\n",
    "if flag == 0:\n",
    "    print(\"Error while scraping\")\n",
    "else:\n",
    "    print(\"Scraped successfully!\")\n",
    "    response = requests.get(csv_url)\n",
    "    content = response.content.decode('utf-8')\n",
    "    csv_reader = csv.reader(StringIO(content))\n",
    "\n",
    "    with open('Schemes.csv', 'w', newline='') as file:\n",
    "        csv_writer = csv.writer(file)\n",
    "        for row in csv_reader:\n",
    "            csv_writer.writerow(row)\n",
    "    "
   ]
  },
  {
   "cell_type": "code",
   "execution_count": 2,
   "id": "91afc400",
   "metadata": {},
   "outputs": [],
   "source": [
    "import pandas as pd"
   ]
  },
  {
   "cell_type": "code",
   "execution_count": 115,
   "id": "6d863260",
   "metadata": {},
   "outputs": [],
   "source": [
    "new_df = pd.read_csv(\"./Schemes.csv\")\n",
    "old_df = pd.read_csv(\"./Scheme-Master.csv\")"
   ]
  },
  {
   "cell_type": "code",
   "execution_count": 116,
   "id": "917d7d2c",
   "metadata": {},
   "outputs": [],
   "source": [
    "data = new_df[~new_df['Code'].isin(old_df['AMFICode'])]\\\n",
    "# data = pd.read_csv('./SchemeData1908231158SS.csv')"
   ]
  },
  {
   "cell_type": "code",
   "execution_count": 109,
   "id": "654288de",
   "metadata": {},
   "outputs": [],
   "source": [
    "def scheme_category(scheme):\n",
    "    list_ = [i.replace(\"Scheme\",\"\").replace(\"&\", \"and\").strip() for i in scheme.split(' - ')]\n",
    "    if len(list_) < 2:\n",
    "        return [\"\", list_[0]]\n",
    "    return list_\n",
    "\n",
    "\n",
    "def ISIN(x):\n",
    "    isin_payout = \"\"\n",
    "    isin_reinv = \"\"\n",
    "    if '-' in x:\n",
    "        x = x.split('-')\n",
    "    else:\n",
    "        x = x.split(' ')\n",
    "    x = [i.strip() for i in x if len(i)>=12]\n",
    "    if len(x)==1:\n",
    "        x=x[0]\n",
    "        if len(x)==24:\n",
    "            isin_payout = x[0:12]\n",
    "            isin_reinv = x[12:24]\n",
    "        elif len(x)==12:\n",
    "            isin_payout = x\n",
    "    elif len(x)==2:\n",
    "        if len(x[0]) == 12:\n",
    "            isin_payout = x[0]\n",
    "        if len(x[1]) == 12:\n",
    "            isin_reinv = x[1]\n",
    "    return [isin_payout, isin_reinv]\n",
    "\n",
    "    return x\n",
    "\n",
    "\n",
    "def amount(x):\n",
    "    min_amount = ''\n",
    "    x+=' '\n",
    "    for i in range(len(x)):\n",
    "        if x[i].isdigit():\n",
    "            for k in x[i:]:\n",
    "                if k.isdigit():\n",
    "                    min_amount += k\n",
    "                else:\n",
    "                    return int(min_amount)\n",
    "    return None\n"
   ]
  },
  {
   "cell_type": "code",
   "execution_count": 110,
   "id": "3f0a0fc4",
   "metadata": {},
   "outputs": [],
   "source": [
    "bubbleData = pd.DataFrame({'AMC': data['AMC'], \"AMFICode\": data['Code'], 'SchemeName': data['Scheme Name'], 'SchemeType': data['Scheme Type'], 'AMFISchemeCategory': data['Scheme Category']})\n",
    "bubbleData[[\"SchemeCategory\", \"SubCategory\"]] = bubbleData['AMFISchemeCategory'].apply(scheme_category).apply(pd.Series)\n",
    "bubbleData['SchemeNAVName'] = data['Scheme NAV Name']\n",
    "bubbleData['Fundtype'] = bubbleData['SubCategory'].apply(lambda x: 'FoF' if 'FoF' in x else 'DE')\n",
    "bubbleData['PlanType'] = bubbleData['SchemeNAVName'].apply(lambda x: 'Direct' if 'direct' in x.lower() else 'Regular')\n",
    "bubbleData[[\"ISINDivPayout_ISIN Growth\", \"ISINDivReinvestment\"]] = data['ISIN Div Payout/ ISIN GrowthISIN Div Reinvestment'].apply(str).apply(ISIN).apply(pd.Series)\n",
    "bubbleData['LaunchDate'] = data['Launch Date']\n",
    "bubbleData['ClosureDate'] = data[' Closure Date']\n",
    "bubbleData['AMFIMininmumAmount'] = data['Scheme Minimum Amount']\n",
    "bubbleData['SchemeMinimumAmount'] = data['Scheme Minimum Amount'].apply(str).apply(amount)\n",
    "bubbleData['isPrimary'] = bubbleData['SchemeNAVName'].apply(lambda x: 'Y' if 'growth' in x.lower() or 'regular' in x.lower() else 'N')"
   ]
  },
  {
   "cell_type": "code",
   "execution_count": 111,
   "id": "8baa971d",
   "metadata": {},
   "outputs": [],
   "source": [
    "# old_df.append(bubbleData)\n",
    "# new_df2.to_csv('Scheme-Master.csv', index=False)\n",
    "new_df2 = pd.concat([old_df, bubbleData], ignore_index=True)"
   ]
  },
  {
   "cell_type": "code",
   "execution_count": 67,
   "id": "320b17af",
   "metadata": {},
   "outputs": [],
   "source": [
    "out = bubbleData.to_dict(orient='records')"
   ]
  },
  {
   "cell_type": "code",
   "execution_count": null,
   "id": "a7185144",
   "metadata": {},
   "outputs": [],
   "source": [
    "import "
   ]
  },
  {
   "cell_type": "code",
   "execution_count": 70,
   "id": "2962aa4e",
   "metadata": {},
   "outputs": [
    {
     "ename": "NameError",
     "evalue": "name 'jsonify' is not defined",
     "output_type": "error",
     "traceback": [
      "\u001b[1;31m---------------------------------------------------------------------------\u001b[0m",
      "\u001b[1;31mNameError\u001b[0m                                 Traceback (most recent call last)",
      "Input \u001b[1;32mIn [70]\u001b[0m, in \u001b[0;36m<cell line: 1>\u001b[1;34m()\u001b[0m\n\u001b[1;32m----> 1\u001b[0m \u001b[38;5;28mtype\u001b[39m(\u001b[43mjsonify\u001b[49m(out))\n",
      "\u001b[1;31mNameError\u001b[0m: name 'jsonify' is not defined"
     ]
    }
   ],
   "source": [
    "type(jsonify(out))"
   ]
  },
  {
   "cell_type": "code",
   "execution_count": null,
   "id": "0990b2fd",
   "metadata": {
    "scrolled": false
   },
   "outputs": [],
   "source": []
  },
  {
   "cell_type": "code",
   "execution_count": null,
   "id": "06f5d5c0",
   "metadata": {},
   "outputs": [],
   "source": []
  }
 ],
 "metadata": {
  "kernelspec": {
   "display_name": "Python 3 (ipykernel)",
   "language": "python",
   "name": "python3"
  },
  "language_info": {
   "codemirror_mode": {
    "name": "ipython",
    "version": 3
   },
   "file_extension": ".py",
   "mimetype": "text/x-python",
   "name": "python",
   "nbconvert_exporter": "python",
   "pygments_lexer": "ipython3",
   "version": "3.9.12"
  }
 },
 "nbformat": 4,
 "nbformat_minor": 5
}
