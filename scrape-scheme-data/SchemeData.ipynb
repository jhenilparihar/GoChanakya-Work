{
 "cells": [
  {
   "cell_type": "code",
   "execution_count": 33,
   "id": "263182bf",
   "metadata": {},
   "outputs": [],
   "source": [
    "import pandas as pd"
   ]
  },
  {
   "cell_type": "code",
   "execution_count": 34,
   "id": "916704f9",
   "metadata": {},
   "outputs": [],
   "source": [
    "data = pd.read_csv('./SchemeData1908231158SS.csv')"
   ]
  },
  {
   "cell_type": "code",
   "execution_count": 35,
   "id": "047d4771",
   "metadata": {},
   "outputs": [
    {
     "data": {
      "text/html": [
       "<div>\n",
       "<style scoped>\n",
       "    .dataframe tbody tr th:only-of-type {\n",
       "        vertical-align: middle;\n",
       "    }\n",
       "\n",
       "    .dataframe tbody tr th {\n",
       "        vertical-align: top;\n",
       "    }\n",
       "\n",
       "    .dataframe thead th {\n",
       "        text-align: right;\n",
       "    }\n",
       "</style>\n",
       "<table border=\"1\" class=\"dataframe\">\n",
       "  <thead>\n",
       "    <tr style=\"text-align: right;\">\n",
       "      <th></th>\n",
       "      <th>AMC</th>\n",
       "      <th>Code</th>\n",
       "      <th>Scheme Name</th>\n",
       "      <th>Scheme Type</th>\n",
       "      <th>Scheme Category</th>\n",
       "      <th>Scheme NAV Name</th>\n",
       "      <th>Scheme Minimum Amount</th>\n",
       "      <th>Launch Date</th>\n",
       "      <th>Closure Date</th>\n",
       "      <th>ISIN Div Payout/ ISIN GrowthISIN Div Reinvestment</th>\n",
       "    </tr>\n",
       "  </thead>\n",
       "  <tbody>\n",
       "    <tr>\n",
       "      <th>0</th>\n",
       "      <td>Aditya Birla Sun Life AMC Limited</td>\n",
       "      <td>100033</td>\n",
       "      <td>Aditya Birla Sun Life Equity Advantage Fund</td>\n",
       "      <td>Open Ended</td>\n",
       "      <td>Equity Scheme - Large &amp; Mid Cap Fund</td>\n",
       "      <td>Aditya Birla Sun Life Equity Advantage Fund - ...</td>\n",
       "      <td>5000</td>\n",
       "      <td>24-Feb-1995</td>\n",
       "      <td>24-Feb-1995</td>\n",
       "      <td>INF209K01165</td>\n",
       "    </tr>\n",
       "    <tr>\n",
       "      <th>1</th>\n",
       "      <td>Aditya Birla Sun Life AMC Limited</td>\n",
       "      <td>100034</td>\n",
       "      <td>Aditya Birla Sun Life Equity Advantage Fund</td>\n",
       "      <td>Open Ended</td>\n",
       "      <td>Equity Scheme - Large &amp; Mid Cap Fund</td>\n",
       "      <td>Aditya Birla Sun Life Equity Advantage Fund -R...</td>\n",
       "      <td>5000</td>\n",
       "      <td>24-Feb-1995</td>\n",
       "      <td>24-Feb-1995</td>\n",
       "      <td>INF209K01157INF209K01CE5</td>\n",
       "    </tr>\n",
       "    <tr>\n",
       "      <th>2</th>\n",
       "      <td>Aditya Birla Sun Life AMC Limited</td>\n",
       "      <td>119433</td>\n",
       "      <td>Aditya Birla Sun Life Equity Advantage Fund</td>\n",
       "      <td>Open Ended</td>\n",
       "      <td>Equity Scheme - Large &amp; Mid Cap Fund</td>\n",
       "      <td>Aditya Birla Sun Life Equity Advantage Fund -D...</td>\n",
       "      <td>5000</td>\n",
       "      <td>24-Feb-1995</td>\n",
       "      <td>24-Feb-1995</td>\n",
       "      <td>INF209K01VG0INF209K01VI6</td>\n",
       "    </tr>\n",
       "    <tr>\n",
       "      <th>3</th>\n",
       "      <td>Aditya Birla Sun Life AMC Limited</td>\n",
       "      <td>119436</td>\n",
       "      <td>Aditya Birla Sun Life Equity Advantage Fund</td>\n",
       "      <td>Open Ended</td>\n",
       "      <td>Equity Scheme - Large &amp; Mid Cap Fund</td>\n",
       "      <td>Aditya Birla Sun Life Equity Advantage Fund - ...</td>\n",
       "      <td>5000</td>\n",
       "      <td>24-Feb-1995</td>\n",
       "      <td>24-Feb-1995</td>\n",
       "      <td>INF209K01VH8</td>\n",
       "    </tr>\n",
       "    <tr>\n",
       "      <th>4</th>\n",
       "      <td>Aditya Birla Sun Life AMC Limited</td>\n",
       "      <td>100037</td>\n",
       "      <td>Aditya Birla Sun Life Income Fund</td>\n",
       "      <td>Open Ended</td>\n",
       "      <td>Debt Scheme - Medium to Long Duration Fund</td>\n",
       "      <td>Aditya Birla Sun Life Income Fund - Regular - ...</td>\n",
       "      <td>5000</td>\n",
       "      <td>01-Jan-1994</td>\n",
       "      <td>01-Jan-1994</td>\n",
       "      <td>INF209K01587INF209K01CY3</td>\n",
       "    </tr>\n",
       "  </tbody>\n",
       "</table>\n",
       "</div>"
      ],
      "text/plain": [
       "                                 AMC    Code  \\\n",
       "0  Aditya Birla Sun Life AMC Limited  100033   \n",
       "1  Aditya Birla Sun Life AMC Limited  100034   \n",
       "2  Aditya Birla Sun Life AMC Limited  119433   \n",
       "3  Aditya Birla Sun Life AMC Limited  119436   \n",
       "4  Aditya Birla Sun Life AMC Limited  100037   \n",
       "\n",
       "                                   Scheme Name Scheme Type  \\\n",
       "0  Aditya Birla Sun Life Equity Advantage Fund  Open Ended   \n",
       "1  Aditya Birla Sun Life Equity Advantage Fund  Open Ended   \n",
       "2  Aditya Birla Sun Life Equity Advantage Fund  Open Ended   \n",
       "3  Aditya Birla Sun Life Equity Advantage Fund  Open Ended   \n",
       "4            Aditya Birla Sun Life Income Fund  Open Ended   \n",
       "\n",
       "                              Scheme Category  \\\n",
       "0        Equity Scheme - Large & Mid Cap Fund   \n",
       "1        Equity Scheme - Large & Mid Cap Fund   \n",
       "2        Equity Scheme - Large & Mid Cap Fund   \n",
       "3        Equity Scheme - Large & Mid Cap Fund   \n",
       "4  Debt Scheme - Medium to Long Duration Fund   \n",
       "\n",
       "                                     Scheme NAV Name Scheme Minimum Amount  \\\n",
       "0  Aditya Birla Sun Life Equity Advantage Fund - ...                  5000   \n",
       "1  Aditya Birla Sun Life Equity Advantage Fund -R...                  5000   \n",
       "2  Aditya Birla Sun Life Equity Advantage Fund -D...                  5000   \n",
       "3  Aditya Birla Sun Life Equity Advantage Fund - ...                  5000   \n",
       "4  Aditya Birla Sun Life Income Fund - Regular - ...                  5000   \n",
       "\n",
       "   Launch Date  Closure Date ISIN Div Payout/ ISIN GrowthISIN Div Reinvestment  \n",
       "0  24-Feb-1995   24-Feb-1995                                      INF209K01165  \n",
       "1  24-Feb-1995   24-Feb-1995                          INF209K01157INF209K01CE5  \n",
       "2  24-Feb-1995   24-Feb-1995                          INF209K01VG0INF209K01VI6  \n",
       "3  24-Feb-1995   24-Feb-1995                                      INF209K01VH8  \n",
       "4  01-Jan-1994   01-Jan-1994                          INF209K01587INF209K01CY3  "
      ]
     },
     "execution_count": 35,
     "metadata": {},
     "output_type": "execute_result"
    }
   ],
   "source": [
    "data.head()"
   ]
  },
  {
   "cell_type": "code",
   "execution_count": 36,
   "id": "76e37faa",
   "metadata": {},
   "outputs": [],
   "source": [
    "bubbleData = pd.DataFrame({'AMC': data['AMC'], \"AMFICode\": data['Code'], 'Scheme Name': data['Scheme Name'], 'Scheme Type': data['Scheme Type'], 'AMFI Scheme Category': data['Scheme Category'], 'Scheme NAV Name': data['Scheme NAV Name']})"
   ]
  },
  {
   "cell_type": "code",
   "execution_count": 37,
   "id": "91a31a78",
   "metadata": {},
   "outputs": [],
   "source": [
    "def scheme_category(scheme):\n",
    "    list_ = [i.replace(\"Scheme\",\"\").replace(\"&\", \"and\").strip() for i in scheme.split(' - ')]\n",
    "    if len(list_) < 2:\n",
    "        return [\"\", list_[0]]\n",
    "    return list_"
   ]
  },
  {
   "cell_type": "code",
   "execution_count": 38,
   "id": "6ba87d95",
   "metadata": {
    "scrolled": true
   },
   "outputs": [],
   "source": [
    "bubbleData[[\"Scheme Category\", \"Sub Category\"]] = bubbleData['AMFI Scheme Category'].apply(scheme_category).apply(pd.Series)"
   ]
  },
  {
   "cell_type": "code",
   "execution_count": 39,
   "id": "6f85bbbf",
   "metadata": {},
   "outputs": [],
   "source": [
    "bubbleData['Fundtype'] = bubbleData['Sub Category'].apply(lambda x: 'FoF' if 'FoF' in x else 'DE')"
   ]
  },
  {
   "cell_type": "code",
   "execution_count": 40,
   "id": "e098748d",
   "metadata": {},
   "outputs": [],
   "source": [
    "bubbleData['PlanType'] = bubbleData['Scheme NAV Name'].apply(lambda x: 'Direct' if 'direct' in x.lower() else 'Regular')"
   ]
  },
  {
   "cell_type": "code",
   "execution_count": 41,
   "id": "265b617c",
   "metadata": {},
   "outputs": [
    {
     "data": {
      "text/plain": [
       "Regular    8083\n",
       "Direct     6852\n",
       "Name: PlanType, dtype: int64"
      ]
     },
     "execution_count": 41,
     "metadata": {},
     "output_type": "execute_result"
    }
   ],
   "source": [
    "bubbleData['PlanType'].value_counts()"
   ]
  },
  {
   "cell_type": "code",
   "execution_count": 42,
   "id": "71d72a19",
   "metadata": {},
   "outputs": [],
   "source": [
    "def ISIN(x):\n",
    "    isin_payout = \"\"\n",
    "    isin_reinv = \"\"\n",
    "    if '-' in x:\n",
    "        x = x.split('-')\n",
    "    else:\n",
    "        x = x.split(' ')\n",
    "    x = [i.strip() for i in x if len(i)>=12]\n",
    "    if len(x)==1:\n",
    "        x=x[0]\n",
    "        if len(x)==24:\n",
    "            isin_payout = x[0:12]\n",
    "            isin_reinv = x[12:24]\n",
    "        elif len(x)==12:\n",
    "            isin_payout = x\n",
    "    elif len(x)==2:\n",
    "        if len(x[0]) == 12:\n",
    "            isin_payout = x[0]\n",
    "        if len(x[1]) == 12:\n",
    "            isin_reinv = x[1]\n",
    "    return [isin_payout, isin_reinv]\n",
    "\n",
    "    return x"
   ]
  },
  {
   "cell_type": "code",
   "execution_count": 43,
   "id": "e1abde7f",
   "metadata": {
    "scrolled": true
   },
   "outputs": [],
   "source": [
    "bubbleData[[\"ISIN Div Payout / ISIN Growth\", \"ISIN Div Reinvestment\"]] = data['ISIN Div Payout/ ISIN GrowthISIN Div Reinvestment'].apply(str).apply(ISIN).apply(pd.Series)"
   ]
  },
  {
   "cell_type": "code",
   "execution_count": 44,
   "id": "0f314726",
   "metadata": {},
   "outputs": [],
   "source": [
    "bubbleData['Launch Date'] = data['Launch Date']\n",
    "bubbleData['Closure Date'] = data[' Closure Date']"
   ]
  },
  {
   "cell_type": "code",
   "execution_count": 45,
   "id": "2f74042e",
   "metadata": {},
   "outputs": [],
   "source": [
    "def amount(x):\n",
    "    min_amount = ''\n",
    "    x+=' '\n",
    "    for i in range(len(x)):\n",
    "        if x[i].isdigit():\n",
    "            for k in x[i:]:\n",
    "                if k.isdigit():\n",
    "                    min_amount += k\n",
    "                else:\n",
    "                    return int(min_amount)\n",
    "    return None"
   ]
  },
  {
   "cell_type": "code",
   "execution_count": 46,
   "id": "7377fed0",
   "metadata": {},
   "outputs": [],
   "source": [
    "bubbleData['AMFI-Mininmum-Amount'] = data['Scheme Minimum Amount']\n",
    "bubbleData['Scheme Minimum Amount'] = data['Scheme Minimum Amount'].apply(str).apply(amount)"
   ]
  },
  {
   "cell_type": "code",
   "execution_count": 47,
   "id": "935bcd9b",
   "metadata": {},
   "outputs": [],
   "source": [
    "bubbleData['isPrimary'] = bubbleData['Scheme NAV Name'].apply(lambda x: 'Y' if 'growth' in x.lower() or 'regular' in x.lower() else 'N')"
   ]
  },
  {
   "cell_type": "code",
   "execution_count": 48,
   "id": "83f60ef4",
   "metadata": {},
   "outputs": [],
   "source": [
    "bubbleData.to_csv('Scheme-Master.csv', index=False)"
   ]
  },
  {
   "cell_type": "code",
   "execution_count": null,
   "id": "2f4dcdb6",
   "metadata": {},
   "outputs": [],
   "source": []
  }
 ],
 "metadata": {
  "kernelspec": {
   "display_name": "Python 3 (ipykernel)",
   "language": "python",
   "name": "python3"
  },
  "language_info": {
   "codemirror_mode": {
    "name": "ipython",
    "version": 3
   },
   "file_extension": ".py",
   "mimetype": "text/x-python",
   "name": "python",
   "nbconvert_exporter": "python",
   "pygments_lexer": "ipython3",
   "version": "3.9.12"
  }
 },
 "nbformat": 4,
 "nbformat_minor": 5
}
